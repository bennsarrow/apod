{
 "cells": [
  {
   "cell_type": "markdown",
   "metadata": {},
   "source": [
    "# APOD Pseudocode\n",
    "\n",
    "#### html download module\n",
    "1. Connect to NASA APOD site\n",
    "2. Download apod html\n",
    "3. return raw html\n",
    "\n",
    "#### extract image module\n",
    "1. extract image url\n",
    "2. extract image name\n",
    "3. download hi-res image\n",
    "\n",
    "#### extract title module\n",
    "1. extract title\n",
    "2. remove html tags\n",
    "\n",
    "#### extract explanation module\n",
    "1. extract explanation text\n",
    "2. remove html tags\n",
    "3. del all up to 1st Explanation\n",
    "4. remove html, line breaks and unneeded spaces:\n",
    "\n",
    "#### create annotated image\n",
    "\n",
    "\n"
   ]
  },
  {
   "cell_type": "code",
   "execution_count": 86,
   "metadata": {
    "collapsed": false
   },
   "outputs": [
    {
     "data": {
      "text/plain": [
       "0"
      ]
     },
     "execution_count": 86,
     "metadata": {},
     "output_type": "execute_result"
    }
   ],
   "source": [
    "#!/home/sean/anaconda3/bin/python\n",
    "\n",
    "import requests\n",
    "import json\n",
    "import textwrap\n",
    "import os\n",
    "from PIL import Image, ImageDraw, ImageFont\n",
    "from pathlib import Path\n",
    "from configparser import ConfigParser\n",
    "\n",
    "home = str(Path.home())\n",
    "\n",
    "# Read from config file\n",
    "parser = ConfigParser()\n",
    "# configFilePath = home + '.apod/apod.settings'\n",
    "configFilePath = 'apod.settings'\n",
    "parser.read(configFilePath)\n",
    "scrn_width = int(parser.get('apod_config', 'Screen_Size').split(',')[0])\n",
    "scrn_length = int(parser.get('apod_config', 'Screen_Size').split(',')[1])\n",
    "num_chars = int(parser.get('apod_config', 'Num_Characters'))\n",
    "api_key = parser.get('apod_config', 'API_Key')\n",
    "\n",
    "url = 'https://api.nasa.gov/planetary/apod'\n",
    "data = json.loads(requests.get(url + '?api_key=' + api_key).text)\n",
    "image = Image.open(requests.get(data['hdurl'], stream=True).raw).resize(\n",
    "    (scrn_width, scrn_length), resample=0)\n",
    "draw = ImageDraw.Draw(image)\n",
    "exp_font = ImageFont.truetype(\"arial.ttf\", 14, encoding=\"unic\")\n",
    "title_font = ImageFont.truetype(\"arial.ttf\", 24, encoding=\"unic\")\n",
    "lines = textwrap.wrap(data['explanation'], width=num_chars)\n",
    "y_text = (scrn_length / 6) * 5\n",
    "\n",
    "draw.text((20, y_text - 30), data['title'], fill='white', font=title_font)\n",
    "\n",
    "for line in lines:\n",
    "    width, height = exp_font.getsize(line)\n",
    "    draw.text((20, y_text), line, font=exp_font, fill='white')\n",
    "    y_text += height\n",
    "\n",
    "image.save(home + \"/.apod/apod.png\", 'PNG')\n",
    "os.system(\"/usr/bin/gsettings set org.gnome.desktop.background picture-uri file://\" +\n",
    "          home + \"/.apod/apod.png\")\n"
   ]
  }
 ],
 "metadata": {
  "kernelspec": {
   "display_name": "Python 3",
   "language": "python",
   "name": "python3"
  },
  "language_info": {
   "codemirror_mode": {
    "name": "ipython",
    "version": 3
   },
   "file_extension": ".py",
   "mimetype": "text/x-python",
   "name": "python",
   "nbconvert_exporter": "python",
   "pygments_lexer": "ipython3",
   "version": "3.6.0"
  }
 },
 "nbformat": 4,
 "nbformat_minor": 2
}
