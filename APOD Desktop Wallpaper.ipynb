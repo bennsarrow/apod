{
 "cells": [
  {
   "cell_type": "markdown",
   "metadata": {},
   "source": [
    "# APOD Pseudocode\n",
    "\n",
    "#### html download module\n",
    "1. Connect to NASA APOD site\n",
    "2. Download apod html\n",
    "3. return raw html\n",
    "\n",
    "#### extract image module\n",
    "1. extract image url\n",
    "2. extract image name\n",
    "3. download hi-res image\n",
    "\n",
    "#### extract title module\n",
    "1. extract title\n",
    "2. remove html tags\n",
    "\n",
    "#### extract explanation module\n",
    "1. extract explanation text\n",
    "2. remove html tags\n",
    "3. del all up to 1st Explanation\n",
    "4. remove html, line breaks and unneeded spaces:\n",
    "\n",
    "#### create annotated image\n",
    "\n",
    "\n"
   ]
  },
  {
   "cell_type": "code",
   "execution_count": 65,
   "metadata": {
    "collapsed": false
   },
   "outputs": [],
   "source": [
    "import requests, json, textwrap\n",
    "from PIL import Image, ImageDraw, ImageFont   \n",
    "from pathlib import Path\n",
    "home = str(Path.home())\n",
    "# Set these parameters\n",
    "WALLPAPER_DIR=home+\"/Pictures/Wallpapers\"\n",
    "scrn_size = (1368,768)\n",
    "num_chars = 200\n",
    "api_key='AsSKVzQATYZ4qyVgVIPtDHhwoHd7BDThhNn2ZeNP'\n",
    "\n",
    "url = 'https://api.nasa.gov/planetary/apod'\n",
    "data = json.loads(requests.get(url+'?api_key='+api_key).text)\n",
    "image = Image.open(requests.get(data['hdurl'], stream=True).raw).resize(scrn_size,resample=0)\n",
    "draw  = ImageDraw.Draw(image)\n",
    "exp_font  = ImageFont.truetype(\"arial.ttf\", 14, encoding=\"unic\")\n",
    "title_font  = ImageFont.truetype(\"arial.ttf\", 24, encoding=\"unic\")\n",
    "lines = textwrap.wrap(data['explanation'], width=num_chars)\n",
    "y_text = (scrn_size[1]/6)*5\n",
    "\n",
    "draw.text( (20,y_text-30), data['title'], fill='white', font=title_font)\n",
    "\n",
    "for line in lines:\n",
    "    width, height = exp_font.getsize(line)\n",
    "    draw.text((20, y_text), line, font=exp_font, fill='white')\n",
    "    y_text += height\n",
    "    \n",
    "image.save(home+\"/.apod/apod.png\",'PNG')"
   ]
  },
  {
   "cell_type": "code",
   "execution_count": 71,
   "metadata": {
    "collapsed": false
   },
   "outputs": [
    {
     "name": "stdout",
     "output_type": "stream",
     "text": [
      "GLib-GIO-\u001b[1;32mMessage\u001b[0m: Using the 'memory' GSettings backend.  Your settings will not be saved or shared with other applications.\r\n"
     ]
    }
   ],
   "source": [
    "# Set as wallpaper (Gnome):\n",
    "#\"+home\n",
    "#print(\"file://+\"/.apod/apod.png\")\n",
    "!gsettings set org.gnome.desktop.background picture-uri \"file:/\"+home+\"/.apod/apod.png\"\n"
   ]
  }
 ],
 "metadata": {
  "kernelspec": {
   "display_name": "Python 3",
   "language": "python",
   "name": "python3"
  },
  "language_info": {
   "codemirror_mode": {
    "name": "ipython",
    "version": 3
   },
   "file_extension": ".py",
   "mimetype": "text/x-python",
   "name": "python",
   "nbconvert_exporter": "python",
   "pygments_lexer": "ipython3",
   "version": "3.6.0"
  }
 },
 "nbformat": 4,
 "nbformat_minor": 2
}
